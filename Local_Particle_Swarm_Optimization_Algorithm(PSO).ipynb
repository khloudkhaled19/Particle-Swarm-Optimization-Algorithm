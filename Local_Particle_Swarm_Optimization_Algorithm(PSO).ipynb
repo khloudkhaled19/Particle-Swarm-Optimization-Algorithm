{
  "nbformat": 4,
  "nbformat_minor": 0,
  "metadata": {
    "colab": {
      "provenance": []
    },
    "kernelspec": {
      "display_name": "Python 2",
      "language": "python",
      "name": "python2"
    },
    "language_info": {
      "codemirror_mode": {
        "name": "ipython",
        "version": 2
      },
      "file_extension": ".py",
      "mimetype": "text/x-python",
      "name": "python",
      "nbconvert_exporter": "python",
      "pygments_lexer": "ipython2",
      "version": "2.7.12"
    }
  },
  "cells": [
    {
      "cell_type": "code",
      "metadata": {
        "id": "gpO0PN0uNGbj"
      },
      "source": [
        "import numpy as np"
      ],
      "execution_count": null,
      "outputs": []
    },
    {
      "cell_type": "code",
      "metadata": {
        "id": "U-PaCspTJzST"
      },
      "source": [
        "import random"
      ],
      "execution_count": null,
      "outputs": []
    },
    {
      "cell_type": "code",
      "metadata": {
        "id": "D3Ghth26s28A"
      },
      "source": [
        "import matplotlib.pyplot as plt"
      ],
      "execution_count": null,
      "outputs": []
    },
    {
      "cell_type": "code",
      "metadata": {
        "id": "AwDVZV9JhPVR"
      },
      "source": [
        "import copy"
      ],
      "execution_count": null,
      "outputs": []
    },
    {
      "cell_type": "markdown",
      "metadata": {
        "id": "vjlAvaUdUie1"
      },
      "source": [
        "This is the problem we need to solve:\n",
        "<br>\n",
        "\n",
        "$$ Minimize: $$  $$ f(x,y) = (x+2y-7)^2 + (2x+y-5)^2 $$\n",
        "\n",
        "$$ -10 \\leqslant x,y \\leqslant 10 $$"
      ]
    },
    {
      "cell_type": "code",
      "metadata": {
        "id": "HwCtgnjlMush"
      },
      "source": [
        "def initpop(npop,x_max,x_min,v_max,dim):\n",
        "  # Use this function to generate the initial population for the PSO\n",
        "  #npop: population size\n",
        "  #x_max: the upper limit for each decision variable (positions). [10,12]\n",
        "  #x_min: the lower limit for each decision variable (positions). [1,2]\n",
        "  #v_max: the upper limit for each decision variable (velocity). [2,4]\n",
        "  #consider that the lower limit of the speed is equal to negative the upper limit\n",
        "  #dim: number of decision variables\n",
        "    x_id = np.zeros((npop,dim),dtype=float)\n",
        "    v_id = np.zeros((npop,dim),dtype=float)\n",
        "    for i in range(dim):\n",
        "      x_id[:,i] = np.random.uniform(x_min[i],x_max[i],(npop))\n",
        "      v_id[:,i] = np.random.uniform(-1*v_max[i],v_max[i],(npop))\n",
        "\n",
        "    return x_id,v_id\n",
        "  #x_id: the initial positions. Array of arrays of npop*dim\n",
        "  #v_id: the initial velocities. Array f arrays of npop*dim\n"
      ],
      "execution_count": null,
      "outputs": []
    },
    {
      "cell_type": "code",
      "metadata": {
        "id": "KYZOxpRxQhv9",
        "outputId": "4f8196c0-85bf-43ee-fe01-3184d3f0c184",
        "colab": {
          "base_uri": "https://localhost:8080/",
          "height": 134
        }
      },
      "source": [
        "x_id,v_id = initpop(3,[10,10],[-10,-10],[10 ,10],2)\n",
        "print(x_id)\n",
        "print(\"####\")\n",
        "print(v_id)"
      ],
      "execution_count": null,
      "outputs": [
        {
          "output_type": "stream",
          "text": [
            "[[ 7.62599849 -8.35346459]\n",
            " [ 5.41666705  0.17686655]\n",
            " [-4.71861756 -0.33045281]]\n",
            "####\n",
            "[[-2.10389943 -0.47858237]\n",
            " [-4.28154563  5.26023745]\n",
            " [ 8.29073371 -9.48424326]]\n"
          ],
          "name": "stdout"
        }
      ]
    },
    {
      "cell_type": "code",
      "metadata": {
        "id": "BPENZg1SNLKj"
      },
      "source": [
        "def fitCalc(x_i):\n",
        "  # Use this function to calculate the fitness for the particle\n",
        "  #The function is Min z= (x+2y-7)^2 + (2x+y-5)^2\n",
        "  #x_i: single particle position\n",
        "  fitness = (x_i[0] + 2*x_i[1] - 7)**2 + (2*x_i[0] + x_i[1] -5)**2\n",
        "  return fitness\n",
        "  #fitness: the fitness value of a signle particle.\n"
      ],
      "execution_count": null,
      "outputs": []
    },
    {
      "cell_type": "code",
      "metadata": {
        "id": "giMTPeMfRbTc",
        "outputId": "e268956c-e040-4064-84d0-0eaed10264b2",
        "colab": {
          "base_uri": "https://localhost:8080/",
          "height": 34
        }
      },
      "source": [
        "fitCalc(x_id[0,:])"
      ],
      "execution_count": null,
      "outputs": [
        {
          "output_type": "execute_result",
          "data": {
            "text/plain": [
              "262.20075695529215"
            ]
          },
          "metadata": {
            "tags": []
          },
          "execution_count": 79
        }
      ]
    },
    {
      "cell_type": "code",
      "metadata": {
        "id": "bT6cO-9MNjep"
      },
      "source": [
        "def updatePid(x_i,x_fitness,p_i,particle_bestFit):\n",
        "  #Use this function to find single particle best position (particle own history)\n",
        "  #x_i: single particle position.\n",
        "  #p_i: the particle best position across all the previous generations.\n",
        "  #particle_best: particles best fintess values across all the previouse generations.\n",
        "    if x_fitness < particle_bestFit:\n",
        "      p_i = copy.deepcopy(x_i)\n",
        "\n",
        "    return p_i\n",
        "  #pi: the particle best position.\n",
        ""
      ],
      "execution_count": null,
      "outputs": []
    },
    {
      "cell_type": "code",
      "metadata": {
        "id": "eUn-eB9FVojT"
      },
      "source": [
        "def updatePld(p_i,particle_bestFit,p_l,local_bestFit):\n",
        "    #Use this function to find the best position in the population\n",
        "    #p_i: a single particle best position\n",
        "    #particle_bestFit: a particle fitness value associated to p_i.\n",
        "    #p_l: a vector of 1*dim of representing the best position in the neighbourhood area across all the previouse generations\n",
        "    #local_bestFit: fitness value associated to the p_l\n",
        "\n",
        "    if particle_bestFit < local_bestFit:\n",
        "      p_l = copy.deepcopy(p_i)\n",
        "      local_bestFit = particle_bestFit\n",
        "\n",
        "    return p_l,local_bestFit\n",
        "  #p_l: the best position in the neighburhood.\n",
        "  #local_bestFit: the best fitness in the neighbourhood."
      ],
      "execution_count": null,
      "outputs": []
    },
    {
      "cell_type": "code",
      "metadata": {
        "id": "X2vhqJ93exNZ"
      },
      "source": [
        "def updateVidXid(p_i,p_l,x_i,v_i,c_cog,c_soc,dim):#Use this function to calculate new particle velocity and position\n",
        "  #p_i: the particle best position across all the previouse generations.\n",
        "  #p_l: a vector of 1*d of the best position in the neighbourhood across all the previouse generations\n",
        "  #x_i: single particle position.\n",
        "  #v_i: single particle velocity.\n",
        "  #c_cog: cognitive component accerlaration constant\n",
        "  #c_soc: social component accerlaration constant\n",
        "\n",
        "    r_cog = np.random.random(dim)\n",
        "    r_soc = np.random.random(dim)\n",
        "    v_i = np.array(v_i) + (c_cog * np.multiply(r_cog, np.subtract(p_i,x_i))) + (c_soc * np.multiply(r_soc, np.subtract(p_l,x_i)))\n",
        "    x_i = np.array(x_i) + v_i\n",
        "\n",
        "    return x_i,v_i\n"
      ],
      "execution_count": null,
      "outputs": []
    },
    {
      "cell_type": "code",
      "metadata": {
        "id": "IZIp6WU_f85X"
      },
      "source": [
        "def PSO(numItr,npop,x_max,x_min,v_max,dim,c_cog,c_soc):\n",
        "    #Use this function to put all the PSO algorithm together for number of iterations\n",
        "    #numItr: number of iterations.(generations)\n",
        "    #npop: population size\n",
        "    #x_max: the upper limit for each decision variable (positions). [10,12]\n",
        "    #x_min: the lower limit for each decision variable (positions). [1,2]\n",
        "    #v_max: the upper limit for each decision variable (velocity). [2,4]\n",
        "    #c_cog: cognitive constant (c1)\n",
        "    #c_soc: social constant (c2)\n",
        "    #dim: the number of decision variable.\n",
        "\n",
        "    #Intialize\n",
        "    best_hist = np.zeros(numItr,dtype=float)\n",
        "    x,v= initpop(npop,x_max,x_min,v_max,dim)\n",
        "    #p = x[:] #particles' own experience\n",
        "    p_l = np.zeros(dim) #best position across the neighbourhood\n",
        "    local_bestFit = 100000000000\n",
        "    p_n = np.zeros((3,dim),dtype=float) #neighbourhood\n",
        "\n",
        "\n",
        "    #repeat till number of iterations\n",
        "    for iteration in range(numItr):\n",
        "      for i in range(3):\n",
        "        #Choose the particle's neighbours\n",
        "        k = random.randint(0,npop-1)\n",
        "        p_n[i] = x[k]\n",
        "        #Update particle best position and local best position\n",
        "\n",
        "      p = p_n[:]\n",
        "      for i in range(3):\n",
        "        p[i] = updatePid(p_n[i],fitCalc(p_n[i]),p[i],fitCalc(p[i]))\n",
        "        p_l,local_bestFit = updatePld(p[i],fitCalc(p[i]),p_l,local_bestFit)\n",
        "\n",
        "        best_hist[iteration] = local_bestFit\n",
        "\n",
        "        #Update velocity and position\n",
        "        for i in range(3):\n",
        "            x[i],v[i] = updateVidXid(p[i],p_l,p_n[i],v[i],c_cog,c_soc,dim)\n",
        "\n",
        "    return  p_l, local_bestFit, best_hist\n",
        "    #p_l: the position with the best fitness in the final generation.\n",
        "    #local_bestFit: value associated to p_l"
      ],
      "execution_count": null,
      "outputs": []
    },
    {
      "cell_type": "code",
      "metadata": {
        "id": "oz0ELy_qm3xu"
      },
      "source": [
        "numItr = 300\n",
        "npop = 200\n",
        "x_max = [10,10]\n",
        "x_min = [-10,-10]\n",
        "v_max = [8,8]\n",
        "dim = 2\n",
        "c_cog = 1.72\n",
        "c_soc = 1.72"
      ],
      "execution_count": null,
      "outputs": []
    },
    {
      "cell_type": "code",
      "metadata": {
        "id": "9NftYhVom3x7"
      },
      "source": [
        "p_l, local_bestFit,best_hist = PSO(numItr,npop,x_max,x_min,v_max,dim,c_cog,c_soc)"
      ],
      "execution_count": null,
      "outputs": []
    },
    {
      "cell_type": "code",
      "metadata": {
        "id": "YWUZaTpJm3yP",
        "outputId": "bc623ad2-a9dd-4190-981c-cb41b630995b",
        "colab": {
          "base_uri": "https://localhost:8080/",
          "height": 34
        }
      },
      "source": [
        "p_l"
      ],
      "execution_count": null,
      "outputs": [
        {
          "output_type": "execute_result",
          "data": {
            "text/plain": [
              "array([1.05456684, 2.32764092])"
            ]
          },
          "metadata": {
            "tags": []
          },
          "execution_count": 86
        }
      ]
    },
    {
      "cell_type": "code",
      "metadata": {
        "id": "X55YkWAFm3yg",
        "outputId": "f1b3661a-9861-4c5d-ac71-bc4972607e5d",
        "colab": {
          "base_uri": "https://localhost:8080/",
          "height": 34
        }
      },
      "source": [
        "local_bestFit"
      ],
      "execution_count": null,
      "outputs": [
        {
          "output_type": "execute_result",
          "data": {
            "text/plain": [
              "1.981713279299735"
            ]
          },
          "metadata": {
            "tags": []
          },
          "execution_count": 87
        }
      ]
    },
    {
      "cell_type": "code",
      "metadata": {
        "id": "Z6ysPDFBs_gd",
        "outputId": "1f736270-a0d5-485e-c6f3-a2966dee3f08",
        "colab": {
          "base_uri": "https://localhost:8080/",
          "height": 300
        }
      },
      "source": [
        "plt.plot(best_hist)\n",
        "plt.xlabel(\"Iterations\")\n",
        "plt.ylabel(\"Fitness value\")"
      ],
      "execution_count": null,
      "outputs": [
        {
          "output_type": "execute_result",
          "data": {
            "text/plain": [
              "Text(0,0.5,'Fitness value')"
            ]
          },
          "metadata": {
            "tags": []
          },
          "execution_count": 88
        },
        {
          "output_type": "display_data",
          "data": {
            "image/png": "[encoded data removed]",
            "text/plain": [
              "<Figure size 432x288 with 1 Axes>"
            ]
          },
          "metadata": {
            "tags": [],
            "needs_background": "light"
          }
        }
      ]
    },
    {
      "cell_type": "code",
      "metadata": {
        "id": "nxdNaxPAKKhU"
      },
      "source": [
        "#The main idea of the Local Best PSO is that I choose a neighbourhood area in each iteration.\n",
        "#I randomly select 2 neighbours for each particle and put them in the p_n array ,then I loop on each particle in the array\n",
        "#To make the calculations and comparisons of the fitness as same as we did  in the Global PSO\n",
        "#The main change is the main function of the PSO. However, for the rest of the functions I changes only name of the variables\n",
        "#I changed the variables p_g to p_l , and each global to local"
      ],
      "execution_count": null,
      "outputs": []
    }
  ]
}