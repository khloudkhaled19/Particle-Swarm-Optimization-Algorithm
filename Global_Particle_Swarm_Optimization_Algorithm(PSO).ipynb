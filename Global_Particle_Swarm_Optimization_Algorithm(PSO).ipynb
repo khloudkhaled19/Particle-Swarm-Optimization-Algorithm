{
  "nbformat": 4,
  "nbformat_minor": 0,
  "metadata": {
    "colab": {
      "provenance": []
    },
    "kernelspec": {
      "display_name": "Python 2",
      "language": "python",
      "name": "python2"
    },
    "language_info": {
      "codemirror_mode": {
        "name": "ipython",
        "version": 2
      },
      "file_extension": ".py",
      "mimetype": "text/x-python",
      "name": "python",
      "nbconvert_exporter": "python",
      "pygments_lexer": "ipython2",
      "version": "2.7.12"
    }
  },
  "cells": [
    {
      "cell_type": "markdown",
      "source": [
        "This notebook is implementing the particle swarm optimization algorithm to find the best global value using ring topology."
      ],
      "metadata": {
        "id": "tXLK6vhwjFBK"
      }
    },
    {
      "cell_type": "code",
      "metadata": {
        "id": "gpO0PN0uNGbj"
      },
      "source": [
        "import numpy as np"
      ],
      "execution_count": null,
      "outputs": []
    },
    {
      "cell_type": "code",
      "metadata": {
        "id": "D3Ghth26s28A"
      },
      "source": [
        "import matplotlib.pyplot as plt"
      ],
      "execution_count": null,
      "outputs": []
    },
    {
      "cell_type": "code",
      "metadata": {
        "id": "AwDVZV9JhPVR"
      },
      "source": [
        "import copy"
      ],
      "execution_count": null,
      "outputs": []
    },
    {
      "cell_type": "markdown",
      "metadata": {
        "id": "vjlAvaUdUie1"
      },
      "source": [
        "This is the problem we need to solve:\n",
        "<br>\n",
        "\n",
        "$$ Minimize: $$  $$ f(x,y) = (x+2y-7)^2 + (2x+y-5)^2 $$\n",
        "\n",
        "$$ -10 \\leqslant x,y \\leqslant 10 $$"
      ]
    },
    {
      "cell_type": "code",
      "metadata": {
        "id": "HwCtgnjlMush"
      },
      "source": [
        "def initpop(npop,x_max,x_min,v_max,dim):\n",
        "  # Use this function to generate the initial population for the PSO\n",
        "  #npop: population size\n",
        "  #x_max: the upper limit for each decision variable (positions). [10,12]\n",
        "  #x_min: the lower limit for each decision variable (positions). [1,2]\n",
        "  #v_max: the upper limit for each decision variable (velocity). [2,4]\n",
        "  #consider that the lower limit of the speed is equal to negative the upper limit\n",
        "  #dim: number of decision variables\n",
        "    x_id = np.zeros((npop,dim),dtype=float)\n",
        "    v_id = np.zeros((npop,dim),dtype=float)\n",
        "    for i in range(dim):\n",
        "      x_id[:,i] = np.random.uniform(x_min[i],x_max[i],(npop))\n",
        "      v_id[:,i] = np.random.uniform(-1*v_max[i],v_max[i],(npop))\n",
        "\n",
        "    return x_id,v_id\n",
        "  #x_id: the initial positions. Array of arrays of npop*dim\n",
        "  #v_id: the initial velocities. Array f arrays of npop*dim\n"
      ],
      "execution_count": null,
      "outputs": []
    },
    {
      "cell_type": "code",
      "metadata": {
        "id": "KYZOxpRxQhv9",
        "outputId": "579ed447-74c6-4b62-f228-54fcd56dee6a",
        "colab": {
          "base_uri": "https://localhost:8080/",
          "height": 151
        }
      },
      "source": [
        "x_id,v_id = initpop(3,[10,10],[-10,-10],[10 ,10],2)\n",
        "print(x_id)\n",
        "print(\"####\")\n",
        "print(v_id)"
      ],
      "execution_count": null,
      "outputs": [
        {
          "output_type": "stream",
          "text": [
            "[[ 1.76626558  6.99580601]\n",
            " [-8.04963519  2.73180706]\n",
            " [ 9.53009209  7.58665853]]\n",
            "####\n",
            "[[-0.48934987 -2.26406937]\n",
            " [-7.36138229  1.09664381]\n",
            " [-2.79874859 -4.26211771]]\n",
            "ERROR! Session/line number was not unique in database. History logging moved to new session 59\n"
          ],
          "name": "stdout"
        }
      ]
    },
    {
      "cell_type": "code",
      "metadata": {
        "id": "BPENZg1SNLKj"
      },
      "source": [
        "def fitCalc(x_i):\n",
        "  # Use this function to calculate the fitness for the particle\n",
        "  #The function is Min z= (x+2y-7)^2 + (2x+y-5)^2\n",
        "  #x_i: single particle position\n",
        "  fitness = (x_i[0] + 2*x_i[1] - 7)**2 + (2*x_i[0] + x_i[1] -5)**2\n",
        "  return fitness\n",
        "  #fitness: the fitness value of a signle particle.\n"
      ],
      "execution_count": null,
      "outputs": []
    },
    {
      "cell_type": "code",
      "metadata": {
        "id": "giMTPeMfRbTc",
        "outputId": "dc0dca53-31e1-42cc-8fc6-78767fa10801",
        "colab": {
          "base_uri": "https://localhost:8080/",
          "height": 34
        }
      },
      "source": [
        "fitCalc(x_id[0,:])"
      ],
      "execution_count": null,
      "outputs": [
        {
          "output_type": "execute_result",
          "data": {
            "text/plain": [
              "107.26293210067406"
            ]
          },
          "metadata": {
            "tags": []
          },
          "execution_count": 7
        }
      ]
    },
    {
      "cell_type": "code",
      "metadata": {
        "id": "bT6cO-9MNjep"
      },
      "source": [
        "def updatePid(x_i,x_fitness,p_i,particle_bestFit):\n",
        "  #Use this function to find single particle best position (particle own history)\n",
        "  #x_i: single particle position.\n",
        "  #p_i: the particle best position across all the previous generations.\n",
        "  #particle_best: particles best fintess values across all the previouse generations.\n",
        "    if x_fitness < particle_bestFit:\n",
        "      p_i = copy.deepcopy(x_i)\n",
        "\n",
        "    return p_i\n",
        "  #pi: the particle best position.\n",
        ""
      ],
      "execution_count": null,
      "outputs": []
    },
    {
      "cell_type": "code",
      "metadata": {
        "id": "eUn-eB9FVojT"
      },
      "source": [
        "def updatePgd(p_i,particle_bestFit,p_g,global_bestFit):\n",
        "    #Use this function to find the best position in the population\n",
        "    #p_i: a single particle best position\n",
        "    #particle_bestFit: a particle fitness value associated to p_i.\n",
        "    #p_g: a vector of 1*dim of representing the best position in the population across all the previouse generations\n",
        "    #global_bestFit: fitness value associated to the p_g\n",
        "\n",
        "    if particle_bestFit < global_bestFit:\n",
        "      p_g = copy.deepcopy(p_i)\n",
        "      global_bestFit = particle_bestFit\n",
        "\n",
        "    return p_g,global_bestFit\n",
        "  #p_g: the best position in the population.\n",
        "  #global_bestFit: the best fitness in the population."
      ],
      "execution_count": null,
      "outputs": []
    },
    {
      "cell_type": "code",
      "metadata": {
        "id": "X2vhqJ93exNZ"
      },
      "source": [
        "def updateVidXid(p_i,p_g,x_i,v_i,c_cog,c_soc,dim):#Use this function to calculate new particle velocity and position\n",
        "  #p_i: the particle best position across all the previouse generations.\n",
        "  #p_g: a vector of 1*d of the best position in the population across all the previouse generations\n",
        "  #x_i: single particle position.\n",
        "  #v_i: single particle velocity.\n",
        "  #c_cog: cognitive component accerlaration constant\n",
        "  #c_soc: social component accerlaration constant\n",
        "\n",
        "    r_cog = np.random.random(dim)\n",
        "    r_soc = np.random.random(dim)\n",
        "    v_i = np.array(v_i) + (c_cog * np.multiply(r_cog, np.subtract(p_i,x_i))) + (c_soc * np.multiply(r_soc, np.subtract(p_g,x_i)))\n",
        "    x_i = np.array(x_i) + v_i\n",
        "\n",
        "    return x_i,v_i\n"
      ],
      "execution_count": null,
      "outputs": []
    },
    {
      "cell_type": "code",
      "metadata": {
        "id": "IZIp6WU_f85X"
      },
      "source": [
        "def PSO(numItr,npop,x_max,x_min,v_max,dim,c_cog,c_soc):\n",
        "    #Use this function to put all the PSO algorithm together for number of iterations\n",
        "    #numItr: number of iterations.(generations)\n",
        "    #npop: population size\n",
        "    #x_max: the upper limit for each decision variable (positions). [10,12]\n",
        "    #x_min: the lower limit for each decision variable (positions). [1,2]\n",
        "    #v_max: the upper limit for each decision variable (velocity). [2,4]\n",
        "    #c_cog: cognitive constant (c1)\n",
        "    #c_soc: social constant (c2)\n",
        "    #dim: the number of decision variable.\n",
        "\n",
        "    #Intialize\n",
        "    best_hist = np.zeros(numItr,dtype=float)\n",
        "    x,v= initpop(npop,x_max,x_min,v_max,dim)\n",
        "    p = x[:] #particles' own experience\n",
        "    p_g = np.zeros(dim) #best position across all particles\n",
        "    global_bestFit = 100000000000\n",
        "\n",
        "    #repeat till number of iterations\n",
        "    for iteration in range(numItr):\n",
        "\n",
        "        #Update particle best position and global best position\n",
        "        for i in range(npop):\n",
        "            p[i] = updatePid(x[i],fitCalc(x[i]),p[i],fitCalc(p[i]))\n",
        "            p_g,global_bestFit = updatePgd(p[i],fitCalc(p[i]),p_g,global_bestFit)\n",
        "\n",
        "        best_hist[iteration] = global_bestFit\n",
        "\n",
        "        #Update velocity and position\n",
        "        for i in range(npop):\n",
        "            x[i],v[i] = updateVidXid(p[i],p_g,x[i],v[i],c_cog,c_soc,dim)\n",
        "\n",
        "    return  p_g, global_bestFit, best_hist\n",
        "    #p_g: the position with the best fitness in the final generation.\n",
        "    #global_bestFit: value associated to p_g"
      ],
      "execution_count": null,
      "outputs": []
    },
    {
      "cell_type": "code",
      "metadata": {
        "id": "oz0ELy_qm3xu"
      },
      "source": [
        "numItr = 300\n",
        "npop = 200\n",
        "x_max = [10,10]\n",
        "x_min = [-10,-10]\n",
        "v_max = [8,8]\n",
        "dim = 2\n",
        "c_cog = 1.72\n",
        "c_soc = 1.72"
      ],
      "execution_count": null,
      "outputs": []
    },
    {
      "cell_type": "code",
      "metadata": {
        "id": "9NftYhVom3x7"
      },
      "source": [
        "p_g, global_bestFit,best_hist = PSO(numItr,npop,x_max,x_min,v_max,dim,c_cog,c_soc)"
      ],
      "execution_count": null,
      "outputs": []
    },
    {
      "cell_type": "code",
      "metadata": {
        "id": "YWUZaTpJm3yP",
        "outputId": "c43c8155-86e1-4f5d-9a3f-8a45527b71ad",
        "colab": {
          "base_uri": "https://localhost:8080/",
          "height": 34
        }
      },
      "source": [
        "p_g"
      ],
      "execution_count": null,
      "outputs": [
        {
          "output_type": "execute_result",
          "data": {
            "text/plain": [
              "array([0.92814778, 3.19404518])"
            ]
          },
          "metadata": {
            "tags": []
          },
          "execution_count": 25
        }
      ]
    },
    {
      "cell_type": "code",
      "metadata": {
        "id": "X55YkWAFm3yg",
        "outputId": "76a74525-422a-4606-ea9a-3b2a2c9dd45c",
        "colab": {
          "base_uri": "https://localhost:8080/",
          "height": 34
        }
      },
      "source": [
        "global_bestFit"
      ],
      "execution_count": null,
      "outputs": [
        {
          "output_type": "execute_result",
          "data": {
            "text/plain": [
              "0.10254074468430077"
            ]
          },
          "metadata": {
            "tags": []
          },
          "execution_count": 26
        }
      ]
    },
    {
      "cell_type": "code",
      "metadata": {
        "id": "Z6ysPDFBs_gd",
        "outputId": "91ef45e6-f15a-4fcf-94b5-29006753ceaa",
        "colab": {
          "base_uri": "https://localhost:8080/",
          "height": 300
        }
      },
      "source": [
        "plt.plot(best_hist)\n",
        "plt.xlabel(\"Iterations\")\n",
        "plt.ylabel(\"Fitness value\")"
      ],
      "execution_count": null,
      "outputs": [
        {
          "output_type": "execute_result",
          "data": {
            "text/plain": [
              "Text(0,0.5,'Fitness value')"
            ]
          },
          "metadata": {
            "tags": []
          },
          "execution_count": 27
        },
        {
          "output_type": "display_data",
          "data": {
            "image/png": "[encoded data removed]",
            "text/plain": [
              "<Figure size 432x288 with 1 Axes>"
            ]
          },
          "metadata": {
            "tags": []
          }
        }
      ]
    }
  ]
}
